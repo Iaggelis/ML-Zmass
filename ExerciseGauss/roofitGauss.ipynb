{
 "cells": [
  {
   "cell_type": "markdown",
   "metadata": {},
   "source": [
    "# Maximum Likelihood through RooFit"
   ]
  },
  {
   "cell_type": "code",
   "execution_count": 1,
   "metadata": {},
   "outputs": [
    {
     "name": "stdout",
     "output_type": "stream",
     "text": [
      "Welcome to JupyROOT 6.16/00\n"
     ]
    }
   ],
   "source": [
    "import ROOT"
   ]
  },
  {
   "cell_type": "markdown",
   "metadata": {},
   "source": [
    "* Saving Z mass data as a list and filling a histogram with them"
   ]
  },
  {
   "cell_type": "code",
   "execution_count": 2,
   "metadata": {},
   "outputs": [],
   "source": [
    "c1 = ROOT.TCanvas()\n",
    "mes = [93.4, 89.3, 94.9, 90.7, 89.9, 89.3, 90.9, 93.8, 91.3, 92.9, 91.4, 87.8, 91.5, 89.9, 94.4, 91.3, 88.3, 91.9,\n",
    "        95.4, 91.1, 92.1, 91.7, 94.3, 92.0, 89.9, 90.6, 91.7, 90.4, 92.6, 93.8, 90.9, 90.4, 89.3,\n",
    "        94.6, 90.6, 94.1, 89.7, 90.0, 92.8, 93.8, 93.8, 91.7, 88.2, 92.9, 86.6, 90.6, 89.9, 95.3, 92.5, 96.5]\n",
    "\n",
    "h_b5 = ROOT.TH1D(\"h_b5\",\"Mass histogram\",5,80,100)\n",
    "h_b10 = ROOT.TH1D(\"h_b10\",\"Mass histogram\",10,80,100)\n",
    "for m in mes:\n",
    "    h_b5.Fill(m)\n",
    "    h_b10.Fill(m)"
   ]
  },
  {
   "cell_type": "markdown",
   "metadata": {},
   "source": [
    "## Binned ML for 5 bins\n",
    "* Declaring the RooFit variables"
   ]
  },
  {
   "cell_type": "code",
   "execution_count": 3,
   "metadata": {},
   "outputs": [
    {
     "name": "stdout",
     "output_type": "stream",
     "text": [
      "\n",
      "\u001b[1mRooFit v3.60 -- Developed by Wouter Verkerke and David Kirkby\u001b[0m \n",
      "                Copyright (C) 2000-2013 NIKHEF, University of California & Stanford University\n",
      "                All rights reserved, please read http://roofit.sourceforge.net/license.txt\n",
      "\n",
      "[#1] INFO:DataHandling -- RooDataHist::adjustBinning(data_b5): fit range of variable x_b5 expanded to nearest bin boundaries: [80,100] --> [80,100]\n"
     ]
    }
   ],
   "source": [
    "x_b5 = ROOT.RooRealVar(\"x_b5\",\"m_{Z} (GeV)\",80,100)\n",
    "mean_b5 = ROOT.RooRealVar(\"mean_b5\",\"Z mass\",90,85,100)\n",
    "sigma_b5 = ROOT.RooRealVar(\"sigma_b5\",\"Z width\",2,1,5)\n",
    "gauss_b5 = ROOT.RooGaussian(\"gauss_b5\",\"Gaussian PDF\",x_b5,mean_b5,sigma_b5) # the pdf that will describe the data\n",
    "data_b5 = ROOT.RooDataHist(\"data_b5\", \"data set with x1\", ROOT.RooArgList(x_b5), h_b5)"
   ]
  },
  {
   "cell_type": "markdown",
   "metadata": {},
   "source": [
    "* Plotting the data given to RooFit model and the histrogram \n"
   ]
  },
  {
   "cell_type": "code",
   "execution_count": 4,
   "metadata": {},
   "outputs": [
    {
     "data": {
      "image/png": "[encoded data removed]",
      "text/plain": [
       "<IPython.core.display.Image object>"
      ]
     },
     "metadata": {},
     "output_type": "display_data"
    }
   ],
   "source": [
    "xframe = x_b5.frame()\n",
    "data_b5.plotOn(xframe)\n",
    "xframe.Draw()\n",
    "h_b5.Draw(\"same\")\n",
    "c1.Draw()"
   ]
  },
  {
   "cell_type": "code",
   "execution_count": 5,
   "metadata": {},
   "outputs": [
    {
     "name": "stdout",
     "output_type": "stream",
     "text": [
      "[#1] INFO:Minization -- RooMinimizer::optimizeConst: activating const optimization\n",
      " **********\n",
      " **    1 **SET PRINT           0\n",
      " **********\n",
      " **********\n",
      " **    2 **SET NOGRAD\n",
      " **********\n",
      " PARAMETER DEFINITIONS:\n",
      "    NO.   NAME         VALUE      STEP SIZE      LIMITS\n",
      "     1 mean_b5      9.00000e+01  1.50000e+00    8.50000e+01  1.00000e+02\n",
      "     2 sigma_b5     2.00000e+00  4.00000e-01    1.00000e+00  5.00000e+00\n",
      " **********\n",
      " **    3 **SET ERR         0.5\n",
      " **********\n",
      " **********\n",
      " **    4 **SET PRINT           0\n",
      " **********\n",
      " **********\n",
      " **    5 **SET STR           1\n",
      " **********\n",
      " **********\n",
      " **    6 **MIGRAD        1000           1\n",
      " **********\n",
      " MIGRAD MINIMIZATION HAS CONVERGED.\n",
      " MIGRAD WILL VERIFY CONVERGENCE AND ERROR MATRIX.\n",
      " FCN=114.403 FROM MIGRAD    STATUS=CONVERGED      39 CALLS          40 TOTAL\n",
      "                     EDM=7.7937e-06    STRATEGY= 1      ERROR MATRIX ACCURATE \n",
      "  EXT PARAMETER                                   STEP         FIRST   \n",
      "  NO.   NAME      VALUE            ERROR          SIZE      DERIVATIVE \n",
      "   1  mean_b5      9.15213e+01   3.38196e-01   3.37401e-04  -2.81490e-02\n",
      "   2  sigma_b5     2.38901e+00   2.40514e-01   9.41714e-04   1.96661e-02\n",
      "                               ERR DEF= 0.5\n",
      " **********\n",
      " **    7 **SET ERR         0.5\n",
      " **********\n",
      " **********\n",
      " **    8 **SET PRINT           0\n",
      " **********\n",
      " **********\n",
      " **    9 **HESSE        1000\n",
      " **********\n",
      " FCN=114.403 FROM HESSE     STATUS=OK             10 CALLS          50 TOTAL\n",
      "                     EDM=7.79832e-06    STRATEGY= 1      ERROR MATRIX ACCURATE \n",
      "  EXT PARAMETER                                INTERNAL      INTERNAL  \n",
      "  NO.   NAME      VALUE            ERROR       STEP SIZE       VALUE   \n",
      "   1  mean_b5      9.15213e+01   3.38195e-01   6.74801e-05  -1.30865e-01\n",
      "   2  sigma_b5     2.38901e+00   2.40513e-01   1.88343e-04  -3.10456e-01\n",
      "                               ERR DEF= 0.5\n",
      "[#1] INFO:Minization -- RooMinimizer::optimizeConst: deactivating const optimization\n"
     ]
    }
   ],
   "source": [
    "result_b5 = gauss_b5.fitTo(data_b5,ROOT.RooFit.PrintLevel(0))"
   ]
  },
  {
   "cell_type": "code",
   "execution_count": 6,
   "metadata": {},
   "outputs": [
    {
     "name": "stdout",
     "output_type": "stream",
     "text": [
      "RooRealVar::mean_b5 = 91.5213 +/- 0.338195  L(85 - 100) \n",
      "RooRealVar::sigma_b5 = 2.38901 +/- 0.240513  L(1 - 5) \n"
     ]
    },
    {
     "data": {
      "image/png": "[encoded data removed]",
      "text/plain": [
       "<IPython.core.display.Image object>"
      ]
     },
     "metadata": {},
     "output_type": "display_data"
    }
   ],
   "source": [
    "mean_b5.Print()\n",
    "sigma_b5.Print()\n",
    "\n",
    "xframe = x_b5.frame()\n",
    "data_b5.plotOn(xframe, ROOT.RooLinkedList())\n",
    "gauss_b5.plotOn(xframe)\n",
    "xframe.Draw()\n",
    "h_b5.Draw(\"same\")\n",
    "c1.Draw()"
   ]
  },
  {
   "cell_type": "markdown",
   "metadata": {},
   "source": [
    "***\n",
    "\n",
    "## Binned ML for 10 bins"
   ]
  },
  {
   "cell_type": "code",
   "execution_count": 7,
   "metadata": {},
   "outputs": [
    {
     "name": "stdout",
     "output_type": "stream",
     "text": [
      "[#1] INFO:DataHandling -- RooDataHist::adjustBinning(data_b10): fit range of variable x_b10 expanded to nearest bin boundaries: [80,100] --> [80,100]\n"
     ]
    }
   ],
   "source": [
    "x_b10 = ROOT.RooRealVar(\"x_b10\",\"m_{Z} (GeV)\",80,100)\n",
    "mean_b10 = ROOT.RooRealVar(\"mean_b10\",\"Z mass\",90,85,100)\n",
    "sigma_b10 = ROOT.RooRealVar(\"sigma_b10\",\"Z width\",2,1,5)\n",
    "gauss_b10 = ROOT.RooGaussian(\"gauss_b10\",\"Gaussian PDF\",x_b10,mean_b10,sigma_b10) # the pdf that will describe the data\n",
    "data_b10 = ROOT.RooDataHist(\"data_b10\", \"data set with x1\", ROOT.RooArgList(x_b10), h_b10)"
   ]
  },
  {
   "cell_type": "code",
   "execution_count": 8,
   "metadata": {},
   "outputs": [
    {
     "name": "stdout",
     "output_type": "stream",
     "text": [
      "[#1] INFO:Minization -- RooMinimizer::optimizeConst: activating const optimization\n",
      " **********\n",
      " **   10 **SET PRINT           0\n",
      " **********\n",
      " **********\n",
      " **   11 **SET NOGRAD\n",
      " **********\n",
      " PARAMETER DEFINITIONS:\n",
      "    NO.   NAME         VALUE      STEP SIZE      LIMITS\n",
      "     1 mean_b10     9.00000e+01  1.50000e+00    8.50000e+01  1.00000e+02\n",
      "     2 sigma_b10    2.00000e+00  4.00000e-01    1.00000e+00  5.00000e+00\n",
      " **********\n",
      " **   12 **SET ERR         0.5\n",
      " **********\n",
      " **********\n",
      " **   13 **SET PRINT           0\n",
      " **********\n",
      " **********\n",
      " **   14 **SET STR           1\n",
      " **********\n",
      " **********\n",
      " **   15 **MIGRAD        1000           1\n",
      " **********\n",
      " MIGRAD MINIMIZATION HAS CONVERGED.\n",
      " MIGRAD WILL VERIFY CONVERGENCE AND ERROR MATRIX.\n",
      " FCN=111.179 FROM MIGRAD    STATUS=CONVERGED      40 CALLS          41 TOTAL\n",
      "                     EDM=2.95991e-05    STRATEGY= 1      ERROR MATRIX ACCURATE \n",
      "  EXT PARAMETER                                   STEP         FIRST   \n",
      "  NO.   NAME      VALUE            ERROR          SIZE      DERIVATIVE \n",
      "   1  mean_b10     9.15991e+01   3.16523e-01   3.14105e-04  -1.26110e-01\n",
      "   2  sigma_b10    2.23733e+00   2.24266e-01   9.09534e-04  -7.39403e-03\n",
      "                               ERR DEF= 0.5\n",
      " **********\n",
      " **   16 **SET ERR         0.5\n",
      " **********\n",
      " **********\n",
      " **   17 **SET PRINT           0\n",
      " **********\n",
      " **********\n",
      " **   18 **HESSE        1000\n",
      " **********\n",
      " FCN=111.179 FROM HESSE     STATUS=OK             10 CALLS          51 TOTAL\n",
      "                     EDM=2.95929e-05    STRATEGY= 1      ERROR MATRIX ACCURATE \n",
      "  EXT PARAMETER                                INTERNAL      INTERNAL  \n",
      "  NO.   NAME      VALUE            ERROR       STEP SIZE       VALUE   \n",
      "   1  mean_b10     9.15991e+01   3.16522e-01   6.28210e-05  -1.20414e-01\n",
      "   2  sigma_b10    2.23733e+00   2.24265e-01   1.81907e-04  -3.91242e-01\n",
      "                               ERR DEF= 0.5\n",
      "[#1] INFO:Minization -- RooMinimizer::optimizeConst: deactivating const optimization\n"
     ]
    }
   ],
   "source": [
    "result_b10 = gauss_b10.fitTo(data_b10,ROOT.RooFit.PrintLevel(0))"
   ]
  },
  {
   "cell_type": "code",
   "execution_count": 9,
   "metadata": {},
   "outputs": [
    {
     "name": "stdout",
     "output_type": "stream",
     "text": [
      "RooRealVar::mean_b10 = 91.5991 +/- 0.316522  L(85 - 100) \n",
      "RooRealVar::sigma_b10 = 2.23733 +/- 0.224265  L(1 - 5) \n"
     ]
    },
    {
     "data": {
      "image/png": "[encoded data removed]",
      "text/plain": [
       "<IPython.core.display.Image object>"
      ]
     },
     "metadata": {},
     "output_type": "display_data"
    }
   ],
   "source": [
    "mean_b10.Print()\n",
    "sigma_b10.Print()\n",
    "\n",
    "xframe = x_b10.frame()\n",
    "data_b10.plotOn(xframe, ROOT.RooLinkedList())\n",
    "gauss_b10.plotOn(xframe)\n",
    "xframe.Draw()\n",
    "h_b10.Draw(\"same\")\n",
    "c1.Draw()"
   ]
  },
  {
   "cell_type": "markdown",
   "metadata": {},
   "source": [
    "***\n",
    "## Unbinned ML"
   ]
  },
  {
   "cell_type": "code",
   "execution_count": 10,
   "metadata": {},
   "outputs": [],
   "source": [
    "x_un = ROOT.RooRealVar(\"x_un\",\"m_{Z} (GeV)\",80,100)\n",
    "data_un = ROOT.RooDataSet(\"data_un\", \"Unbinned ML\", ROOT.RooArgSet(x_un))\n",
    "for m in mes:\n",
    "    x_un.setVal(m)\n",
    "    data_un.add(ROOT.RooArgSet(x_un))\n",
    "\n",
    "mean_un = ROOT.RooRealVar(\"mean_un\",\"Z mass\",90,85,100)\n",
    "sigma_un = ROOT.RooRealVar(\"sigma_un\",\"Z width\",2,1,5)\n",
    "gauss_un = ROOT.RooGaussian(\"gauss_un\",\"Gaussian PDF\",x_un,mean_un,sigma_un) "
   ]
  },
  {
   "cell_type": "code",
   "execution_count": 11,
   "metadata": {},
   "outputs": [
    {
     "data": {
      "text/plain": [
       "<ROOT.RooFitResult object at 0x(nil)>"
      ]
     },
     "execution_count": 11,
     "metadata": {},
     "output_type": "execute_result"
    },
    {
     "name": "stdout",
     "output_type": "stream",
     "text": [
      "[#1] INFO:Minization -- RooMinimizer::optimizeConst: activating const optimization\n",
      " **********\n",
      " **   19 **SET PRINT           0\n",
      " **********\n",
      " **********\n",
      " **   20 **SET NOGRAD\n",
      " **********\n",
      " PARAMETER DEFINITIONS:\n",
      "    NO.   NAME         VALUE      STEP SIZE      LIMITS\n",
      "     1 mean_un      9.00000e+01  1.50000e+00    8.50000e+01  1.00000e+02\n",
      "     2 sigma_un     2.00000e+00  4.00000e-01    1.00000e+00  5.00000e+00\n",
      " **********\n",
      " **   21 **SET ERR         0.5\n",
      " **********\n",
      " **********\n",
      " **   22 **SET PRINT           0\n",
      " **********\n",
      " **********\n",
      " **   23 **SET STR           1\n",
      " **********\n",
      " **********\n",
      " **   24 **MIGRAD        1000           1\n",
      " **********\n",
      " MIGRAD MINIMIZATION HAS CONVERGED.\n",
      " MIGRAD WILL VERIFY CONVERGENCE AND ERROR MATRIX.\n",
      " FCN=108.731 FROM MIGRAD    STATUS=CONVERGED      46 CALLS          47 TOTAL\n",
      "                     EDM=2.07235e-07    STRATEGY= 1      ERROR MATRIX ACCURATE \n",
      "  EXT PARAMETER                                   STEP         FIRST   \n",
      "  NO.   NAME      VALUE            ERROR          SIZE      DERIVATIVE \n",
      "   1  mean_un      9.16543e+01   3.01256e-01   2.91590e-04  -7.05760e-03\n",
      "   2  sigma_un     2.13000e+00   2.13145e-01   8.54897e-04   2.99638e-03\n",
      "                               ERR DEF= 0.5\n",
      " **********\n",
      " **   25 **SET ERR         0.5\n",
      " **********\n",
      " **********\n",
      " **   26 **SET PRINT           0\n",
      " **********\n",
      " **********\n",
      " **   27 **HESSE        1000\n",
      " **********\n",
      " FCN=108.731 FROM HESSE     STATUS=OK             10 CALLS          57 TOTAL\n",
      "                     EDM=2.07435e-07    STRATEGY= 1      ERROR MATRIX ACCURATE \n",
      "  EXT PARAMETER                                INTERNAL      INTERNAL  \n",
      "  NO.   NAME      VALUE            ERROR       STEP SIZE       VALUE   \n",
      "   1  mean_un      9.16543e+01   3.01256e-01   5.83180e-05  -1.12999e-01\n",
      "   2  sigma_un     2.13000e+00   2.13144e-01   1.70979e-04  -4.50038e-01\n",
      "                               ERR DEF= 0.5\n",
      "[#1] INFO:Minization -- RooMinimizer::optimizeConst: deactivating const optimization\n"
     ]
    }
   ],
   "source": [
    "gauss_un.fitTo(data_un,ROOT.RooFit.Minos(ROOT.kFALSE),ROOT.RooFit.PrintLevel(0))"
   ]
  },
  {
   "cell_type": "code",
   "execution_count": 12,
   "metadata": {},
   "outputs": [
    {
     "name": "stdout",
     "output_type": "stream",
     "text": [
      "RooRealVar::mean_un = 91.6543 +/- 0.301256  L(85 - 100) \n",
      "RooRealVar::sigma_un = 2.13 +/- 0.213144  L(1 - 5) \n"
     ]
    },
    {
     "data": {
      "image/png": "[encoded data removed]",
      "text/plain": [
       "<IPython.core.display.Image object>"
      ]
     },
     "metadata": {},
     "output_type": "display_data"
    }
   ],
   "source": [
    "mean_un.Print()\n",
    "sigma_un.Print()\n",
    "\n",
    "xframe = x_un.frame()\n",
    "data_un.plotOn(xframe, ROOT.RooLinkedList())\n",
    "gauss_un.plotOn(xframe)\n",
    "xframe.Draw()\n",
    "c1.Draw()"
   ]
  },
  {
   "cell_type": "markdown",
   "metadata": {},
   "source": [
    "***\n",
    "## ML generating masses from gaussian pdf"
   ]
  },
  {
   "cell_type": "code",
   "execution_count": 13,
   "metadata": {},
   "outputs": [],
   "source": [
    "x_g = ROOT.RooRealVar(\"x_g\",\"m_{Z} (GeV)\",80,100)\n",
    "mean_g = ROOT.RooRealVar(\"mean_g\",\"Z mass\",91.3,85,100)\n",
    "sigma_g = ROOT.RooRealVar(\"sigma_g\",\"Z width\",5,1,6)\n",
    "gauss_g = ROOT.RooGaussian(\"gauss_g\",\"Gaussian PDF\",x_g,mean_g,sigma_g) "
   ]
  },
  {
   "cell_type": "code",
   "execution_count": 14,
   "metadata": {},
   "outputs": [
    {
     "data": {
      "text/plain": [
       "<ROOT.RooFitResult object at 0x(nil)>"
      ]
     },
     "execution_count": 14,
     "metadata": {},
     "output_type": "execute_result"
    },
    {
     "name": "stdout",
     "output_type": "stream",
     "text": [
      "[#1] INFO:Minization -- RooMinimizer::optimizeConst: activating const optimization\n",
      " **********\n",
      " **   28 **SET PRINT           1\n",
      " **********\n",
      " **********\n",
      " **   29 **SET NOGRAD\n",
      " **********\n",
      " PARAMETER DEFINITIONS:\n",
      "    NO.   NAME         VALUE      STEP SIZE      LIMITS\n",
      "     1 mean_g       9.13000e+01  1.50000e+00    8.50000e+01  1.00000e+02\n",
      "     2 sigma_g      5.00000e+00  5.00000e-01    1.00000e+00  6.00000e+00\n",
      " **********\n",
      " **   30 **SET ERR         0.5\n",
      " **********\n",
      " **********\n",
      " **   31 **SET PRINT           1\n",
      " **********\n",
      " **********\n",
      " **   32 **SET STR           1\n",
      " **********\n",
      " NOW USING STRATEGY  1: TRY TO BALANCE SPEED AGAINST RELIABILITY\n",
      " **********\n",
      " **   33 **MIGRAD        1000           1\n",
      " **********\n",
      " FIRST CALL TO USER FUNCTION AT NEW START POINT, WITH IFLAG=4.\n",
      " START MIGRAD MINIMIZATION.  STRATEGY  1.  CONVERGENCE WHEN EDM .LT. 1.00e-03\n",
      " FCN=141.372 FROM MIGRAD    STATUS=INITIATE        6 CALLS           7 TOTAL\n",
      "                     EDM= unknown      STRATEGY= 1      NO ERROR MATRIX       \n",
      "  EXT PARAMETER               CURRENT GUESS       STEP         FIRST   \n",
      "  NO.   NAME      VALUE            ERROR          SIZE      DERIVATIVE \n",
      "   1  mean_g       9.13000e+01   1.50000e+00   2.04139e-01   4.93386e+00\n",
      "   2  sigma_g      5.00000e+00   5.00000e-01   2.57889e-01   1.15956e+00\n",
      "                               ERR DEF= 0.5\n",
      " MIGRAD MINIMIZATION HAS CONVERGED.\n",
      " MIGRAD WILL VERIFY CONVERGENCE AND ERROR MATRIX.\n",
      " COVARIANCE MATRIX CALCULATED SUCCESSFULLY\n",
      " FCN=141.032 FROM MIGRAD    STATUS=CONVERGED      38 CALLS          39 TOTAL\n",
      "                     EDM=2.48071e-06    STRATEGY= 1      ERROR MATRIX ACCURATE \n",
      "  EXT PARAMETER                                   STEP         FIRST   \n",
      "  NO.   NAME      VALUE            ERROR          SIZE      DERIVATIVE \n",
      "   1  mean_g       9.07968e+01   7.10162e-01   7.96276e-04  -1.41772e-02\n",
      "   2  sigma_g      4.55462e+00   6.29793e-01   2.32093e-03   3.35600e-03\n",
      "                               ERR DEF= 0.5\n",
      " EXTERNAL ERROR MATRIX.    NDIM=  25    NPAR=  2    ERR DEF=0.5\n",
      "  5.059e-01  5.536e-02 \n",
      "  5.536e-02  4.073e-01 \n",
      " PARAMETER  CORRELATION COEFFICIENTS  \n",
      "       NO.  GLOBAL      1      2\n",
      "        1  0.12196   1.000  0.122\n",
      "        2  0.12196   0.122  1.000\n",
      " **********\n",
      " **   34 **SET ERR         0.5\n",
      " **********\n",
      " **********\n",
      " **   35 **SET PRINT           1\n",
      " **********\n",
      " **********\n",
      " **   36 **HESSE        1000\n",
      " **********\n",
      " COVARIANCE MATRIX CALCULATED SUCCESSFULLY\n",
      " FCN=141.032 FROM HESSE     STATUS=OK             10 CALLS          49 TOTAL\n",
      "                     EDM=2.48381e-06    STRATEGY= 1      ERROR MATRIX ACCURATE \n",
      "  EXT PARAMETER                                INTERNAL      INTERNAL  \n",
      "  NO.   NAME      VALUE            ERROR       STEP SIZE       VALUE   \n",
      "   1  mean_g       9.07968e+01   7.10071e-01   1.59255e-04  -2.29092e-01\n",
      "   2  sigma_g      4.55462e+00   6.29717e-01   4.64187e-04   4.35482e-01\n",
      "                               ERR DEF= 0.5\n",
      " EXTERNAL ERROR MATRIX.    NDIM=  25    NPAR=  2    ERR DEF=0.5\n",
      "  5.058e-01  5.488e-02 \n",
      "  5.488e-02  4.072e-01 \n",
      " PARAMETER  CORRELATION COEFFICIENTS  \n",
      "       NO.  GLOBAL      1      2\n",
      "        1  0.12093   1.000  0.121\n",
      "        2  0.12093   0.121  1.000\n",
      "[#1] INFO:Minization -- RooMinimizer::optimizeConst: deactivating const optimization\n"
     ]
    }
   ],
   "source": [
    "data_g = gauss_g.generate(ROOT.RooArgSet(x_g), 50)\n",
    "gauss_g.fitTo(data_g)"
   ]
  },
  {
   "cell_type": "code",
   "execution_count": 15,
   "metadata": {},
   "outputs": [
    {
     "name": "stdout",
     "output_type": "stream",
     "text": [
      "RooRealVar::mean_g = 90.7968 +/- 0.710071  L(85 - 100) \n",
      "RooRealVar::sigma_g = 4.55462 +/- 0.629717  L(1 - 6) \n"
     ]
    },
    {
     "data": {
      "image/png": "[encoded data removed]",
      "text/plain": [
       "<IPython.core.display.Image object>"
      ]
     },
     "metadata": {},
     "output_type": "display_data"
    }
   ],
   "source": [
    "mean_g.Print()\n",
    "sigma_g.Print()\n",
    "\n",
    "xframe = x_g.frame()\n",
    "data_g.plotOn(xframe, ROOT.RooLinkedList())\n",
    "gauss_g.plotOn(xframe)\n",
    "xframe.Draw()\n",
    "c1.Draw()"
   ]
  },
  {
   "cell_type": "markdown",
   "metadata": {},
   "source": [
    " ***\n",
    "## Chi2 Fit"
   ]
  },
  {
   "cell_type": "code",
   "execution_count": null,
   "metadata": {},
   "outputs": [],
   "source": []
  },
  {
   "cell_type": "code",
   "execution_count": 16,
   "metadata": {},
   "outputs": [],
   "source": [
    "x_ch = ROOT.RooRealVar(\"x_ch\",\"m_{Z} (GeV)\",80,100)\n",
    "data_ch = ROOT.RooDataSet(\"data_ch\", \"Chi2 fit\", ROOT.RooArgSet(x_ch))\n",
    "for m in mes:\n",
    "    x_ch.setVal(m)\n",
    "    data_ch.add(ROOT.RooArgSet(x_ch))\n",
    "\n",
    "mean_ch = ROOT.RooRealVar(\"mean_ch\",\"Z mass\",90,85,100)\n",
    "sigma_ch = ROOT.RooRealVar(\"sigma_ch\",\"Z width\",2,1,5)\n",
    "gauss_ch = ROOT.RooGaussian(\"gauss_ch\",\"Gaussian PDF\",x_ch,mean_ch,sigma_ch) "
   ]
  },
  {
   "cell_type": "markdown",
   "metadata": {},
   "source": [
    "* Create binned dataset"
   ]
  },
  {
   "cell_type": "code",
   "execution_count": 17,
   "metadata": {},
   "outputs": [],
   "source": [
    "dd = data_ch.binnedClone()"
   ]
  },
  {
   "cell_type": "code",
   "execution_count": 18,
   "metadata": {},
   "outputs": [
    {
     "data": {
      "text/plain": [
       "<ROOT.RooFitResult object at 0x(nil)>"
      ]
     },
     "execution_count": 18,
     "metadata": {},
     "output_type": "execute_result"
    },
    {
     "name": "stdout",
     "output_type": "stream",
     "text": [
      "[#1] INFO:Minization -- RooMinimizer::optimizeConst: activating const optimization\n",
      " **********\n",
      " **   37 **SET PRINT           1\n",
      " **********\n",
      " **********\n",
      " **   38 **SET NOGRAD\n",
      " **********\n",
      " PARAMETER DEFINITIONS:\n",
      "    NO.   NAME         VALUE      STEP SIZE      LIMITS\n",
      "     1 mean_ch      9.00000e+01  1.50000e+00    8.50000e+01  1.00000e+02\n",
      "     2 sigma_ch     2.00000e+00  4.00000e-01    1.00000e+00  5.00000e+00\n",
      " **********\n",
      " **   39 **SET ERR           1\n",
      " **********\n",
      " **********\n",
      " **   40 **SET PRINT           1\n",
      " **********\n",
      " **********\n",
      " **   41 **SET STR           1\n",
      " **********\n",
      " NOW USING STRATEGY  1: TRY TO BALANCE SPEED AGAINST RELIABILITY\n",
      " **********\n",
      " **   42 **MIGRAD        1000           1\n",
      " **********\n",
      " FIRST CALL TO USER FUNCTION AT NEW START POINT, WITH IFLAG=4.\n",
      " START MIGRAD MINIMIZATION.  STRATEGY  1.  CONVERGENCE WHEN EDM .LT. 1.00e-03\n",
      " FCN=242.028 FROM MIGRAD    STATUS=INITIATE        8 CALLS           9 TOTAL\n",
      "                     EDM= unknown      STRATEGY= 1      NO ERROR MATRIX       \n",
      "  EXT PARAMETER               CURRENT GUESS       STEP         FIRST   \n",
      "  NO.   NAME      VALUE            ERROR          SIZE      DERIVATIVE \n",
      "   1  mean_ch      9.00000e+01   1.50000e+00   2.14402e-01  -2.24926e+03\n",
      "   2  sigma_ch     2.00000e+00   4.00000e-01   2.35352e-01  -1.27016e+03\n",
      " MIGRAD MINIMIZATION HAS CONVERGED.\n",
      " MIGRAD WILL VERIFY CONVERGENCE AND ERROR MATRIX.\n",
      " COVARIANCE MATRIX CALCULATED SUCCESSFULLY\n",
      " FCN=58.9536 FROM MIGRAD    STATUS=CONVERGED      53 CALLS          54 TOTAL\n",
      "                     EDM=3.18025e-07    STRATEGY= 1      ERROR MATRIX ACCURATE \n",
      "  EXT PARAMETER                                   STEP         FIRST   \n",
      "  NO.   NAME      VALUE            ERROR          SIZE      DERIVATIVE \n",
      "   1  mean_ch      9.15142e+01   2.36294e-01   1.19598e-04   2.43184e-02\n",
      "   2  sigma_ch     2.46086e+00   1.82138e-01   3.55403e-04  -1.80360e-03\n",
      " EXTERNAL ERROR MATRIX.    NDIM=  25    NPAR=  2    ERR DEF=1\n",
      "  5.585e-02 -1.523e-03 \n",
      " -1.523e-03  3.327e-02 \n",
      " PARAMETER  CORRELATION COEFFICIENTS  \n",
      "       NO.  GLOBAL      1      2\n",
      "        1  0.03533   1.000 -0.035\n",
      "        2  0.03533  -0.035  1.000\n",
      " **********\n",
      " **   43 **SET ERR           1\n",
      " **********\n",
      " **********\n",
      " **   44 **SET PRINT           1\n",
      " **********\n",
      " **********\n",
      " **   45 **HESSE        1000\n",
      " **********\n",
      " COVARIANCE MATRIX CALCULATED SUCCESSFULLY\n",
      " FCN=58.9536 FROM HESSE     STATUS=OK             10 CALLS          64 TOTAL\n",
      "                     EDM=3.18076e-07    STRATEGY= 1      ERROR MATRIX ACCURATE \n",
      "  EXT PARAMETER                                INTERNAL      INTERNAL  \n",
      "  NO.   NAME      VALUE            ERROR       STEP SIZE       VALUE   \n",
      "   1  mean_ch      9.15142e+01   2.36297e-01   2.39196e-05  -1.31816e-01\n",
      "   2  sigma_ch     2.46086e+00   1.82141e-01   7.10805e-05  -2.72946e-01\n",
      " EXTERNAL ERROR MATRIX.    NDIM=  25    NPAR=  2    ERR DEF=1\n",
      "  5.586e-02 -1.542e-03 \n",
      " -1.542e-03  3.327e-02 \n",
      " PARAMETER  CORRELATION COEFFICIENTS  \n",
      "       NO.  GLOBAL      1      2\n",
      "        1  0.03577   1.000 -0.036\n",
      "        2  0.03577  -0.036  1.000\n"
     ]
    }
   ],
   "source": [
    "ll = ROOT.RooLinkedList()\n",
    "gauss_ch.chi2FitTo(dd,ll)"
   ]
  },
  {
   "cell_type": "code",
   "execution_count": 19,
   "metadata": {},
   "outputs": [
    {
     "name": "stdout",
     "output_type": "stream",
     "text": [
      "RooRealVar::mean_ch = 91.5142 +/- 0.236297  L(85 - 100) \n",
      "RooRealVar::sigma_ch = 2.46086 +/- 0.182141  L(1 - 5) \n"
     ]
    },
    {
     "data": {
      "image/png": "[encoded data removed]",
      "text/plain": [
       "<IPython.core.display.Image object>"
      ]
     },
     "metadata": {},
     "output_type": "display_data"
    }
   ],
   "source": [
    "mean_ch.Print()\n",
    "sigma_ch.Print()\n",
    "\n",
    "xframe = x_ch.frame()\n",
    "data_ch.plotOn(xframe, ROOT.RooLinkedList())\n",
    "gauss_ch.plotOn(xframe)\n",
    "xframe.Draw()\n",
    "c1.Draw()"
   ]
  },
  {
   "cell_type": "code",
   "execution_count": null,
   "metadata": {},
   "outputs": [],
   "source": []
  },
  {
   "cell_type": "code",
   "execution_count": null,
   "metadata": {},
   "outputs": [],
   "source": []
  },
  {
   "cell_type": "code",
   "execution_count": null,
   "metadata": {},
   "outputs": [],
   "source": []
  }
 ],
 "metadata": {
  "kernelspec": {
   "display_name": "Python 3",
   "language": "python",
   "name": "python3"
  },
  "language_info": {
   "codemirror_mode": {
    "name": "ipython",
    "version": 3
   },
   "file_extension": ".py",
   "mimetype": "text/x-python",
   "name": "python",
   "nbconvert_exporter": "python",
   "pygments_lexer": "ipython3",
   "version": "3.6.8"
  }
 },
 "nbformat": 4,
 "nbformat_minor": 2
}
